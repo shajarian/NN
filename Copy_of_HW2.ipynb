{
  "nbformat": 4,
  "nbformat_minor": 0,
  "metadata": {
    "colab": {
      "provenance": [],
      "authorship_tag": "ABX9TyOBTb3rqXgPGIQw+27IUs4o",
      "include_colab_link": true
    },
    "kernelspec": {
      "name": "python3",
      "display_name": "Python 3"
    },
    "language_info": {
      "name": "python"
    }
  },
  "cells": [
    {
      "cell_type": "markdown",
      "metadata": {
        "id": "view-in-github",
        "colab_type": "text"
      },
      "source": [
        "<a href=\"https://colab.research.google.com/github/shajarian/NN/blob/main/Copy_of_HW2.ipynb\" target=\"_parent\"><img src=\"https://colab.research.google.com/assets/colab-badge.svg\" alt=\"Open In Colab\"/></a>"
      ]
    },
    {
      "cell_type": "markdown",
      "source": [
        "# **Shaghayegh (Shirley) Shajarian**\n",
        "\n",
        "**Assignment 2**\n"
      ],
      "metadata": {
        "id": "NdVE2sPv60uh"
      }
    },
    {
      "cell_type": "code",
      "source": [
        "# Generate data\n",
        "# inputs = torch.tensor([[0.05, 0.1]] * 1000)\n",
        "# outputs = torch.tensor([[0.01, 0.99]] * 1000)"
      ],
      "metadata": {
        "id": "jSCCI-fgueG-"
      },
      "execution_count": null,
      "outputs": []
    },
    {
      "cell_type": "code",
      "execution_count": null,
      "metadata": {
        "id": "tgLuoXriSvL0"
      },
      "outputs": [],
      "source": [
        "import torch\n",
        "from torch import nn\n",
        "from torch.optim import Adam\n",
        "import torch.nn.functional as F\n",
        "from torch.utils.data import Dataset, DataLoader\n",
        "from matplotlib import pyplot as plt"
      ]
    },
    {
      "cell_type": "markdown",
      "source": [
        "Since I do not know if generating all similar sample or generating 1000 random samples between input and output was required, I wrote both of them.\n"
      ],
      "metadata": {
        "id": "Xjxxgpg56YVY"
      }
    },
    {
      "cell_type": "code",
      "source": [
        "torch.manual_seed(27)\n",
        "num_samples = 1000\n",
        "\n",
        "inputs = torch.rand(num_samples, 2) * 0.05 + 0.05\n",
        "outputs = torch.rand(num_samples, 2) * 0.98 + 0.01"
      ],
      "metadata": {
        "id": "A8lEwiMjqSjg"
      },
      "execution_count": null,
      "outputs": []
    },
    {
      "cell_type": "code",
      "source": [
        "print(\"First 10 input samples:\")\n",
        "print(inputs[:10])\n",
        "print()\n",
        "\n",
        "print(\"First 10 output samples:\")\n",
        "print(outputs[:10])"
      ],
      "metadata": {
        "colab": {
          "base_uri": "https://localhost:8080/"
        },
        "id": "uHiRAGvi41WL",
        "outputId": "145047b3-f451-411a-ac0d-7f3d8804ed06"
      },
      "execution_count": null,
      "outputs": [
        {
          "output_type": "stream",
          "name": "stdout",
          "text": [
            "First 10 input samples:\n",
            "tensor([[0.0992, 0.0543],\n",
            "        [0.0767, 0.0610],\n",
            "        [0.0631, 0.0899],\n",
            "        [0.0604, 0.0727],\n",
            "        [0.0573, 0.0612],\n",
            "        [0.0870, 0.0644],\n",
            "        [0.0829, 0.0954],\n",
            "        [0.0844, 0.0781],\n",
            "        [0.0954, 0.0625],\n",
            "        [0.0882, 0.0893]])\n",
            "\n",
            "First 10 output samples:\n",
            "tensor([[0.4313, 0.1018],\n",
            "        [0.5656, 0.6010],\n",
            "        [0.9789, 0.7875],\n",
            "        [0.1010, 0.8785],\n",
            "        [0.8928, 0.5950],\n",
            "        [0.4288, 0.9534],\n",
            "        [0.7497, 0.0950],\n",
            "        [0.1297, 0.0758],\n",
            "        [0.2142, 0.7994],\n",
            "        [0.4747, 0.1173]])\n"
          ]
        }
      ]
    },
    {
      "cell_type": "code",
      "source": [
        "# Create Neural Network\n",
        "class NeuralNetwork(nn.Module):\n",
        "  def __init__(self):\n",
        "    super(NeuralNetwork, self).__init__()\n",
        "    self.hidden1 = nn.Linear(2, 2, bias=True)\n",
        "    self.hidden2 = nn.Linear(2, 2, bias=True)\n",
        "    self.hidden3 = nn.Linear(2,2, bias=True)\n",
        "    self.output = nn.Linear(2,2, bias=True)\n",
        "\n",
        "  def forward(self, x):\n",
        "    x = F.sigmoid(self.hidden1(x))\n",
        "    x = F.sigmoid(self.hidden2(x))\n",
        "    x = F.sigmoid(self.hidden3(x))\n",
        "    x = F.sigmoid(self.output(x))\n",
        "\n",
        "    return x\n"
      ],
      "metadata": {
        "id": "sgsR6-NsWVIQ"
      },
      "execution_count": null,
      "outputs": []
    },
    {
      "cell_type": "code",
      "source": [
        "# Neural Network, Optimizer, Loss function\n",
        "neuralnetwork = NeuralNetwork()\n",
        "opt = Adam(neuralnetwork.parameters())\n",
        "loss_fn = nn.MSELoss()"
      ],
      "metadata": {
        "id": "lN64z8tDi84H"
      },
      "execution_count": null,
      "outputs": []
    },
    {
      "cell_type": "code",
      "source": [
        "batch_size = 1\n",
        "dataset = torch.utils.data.TensorDataset(inputs, outputs)\n",
        "dataloader = torch.utils.data.DataLoader(dataset, batch_size=batch_size, shuffle=True)"
      ],
      "metadata": {
        "id": "5IcgYgaQvJGx"
      },
      "execution_count": null,
      "outputs": []
    },
    {
      "cell_type": "code",
      "source": [
        "store = []\n",
        "num_epochs = 10\n",
        "for epoch in range(num_epochs):\n",
        "    running_loss = 0.0\n",
        "    for i, data in enumerate(dataloader, 0):\n",
        "        inputs, labels = data\n",
        "\n",
        "        opt.zero_grad()\n",
        "        outputs = neuralnetwork(inputs)\n",
        "        loss = loss_fn(outputs, labels)\n",
        "        loss.backward()\n",
        "        opt.step()\n",
        "\n",
        "        running_loss += loss.item()\n",
        "    store.append(running_loss/len(dataloader))\n",
        "    print('Epoch %d loss: %.3f' % (epoch + 1, running_loss / len(dataloader)))"
      ],
      "metadata": {
        "colab": {
          "base_uri": "https://localhost:8080/"
        },
        "id": "advNvtaWvYhl",
        "outputId": "fad1fa27-8aa0-4e7e-b116-48e3fb2192d6"
      },
      "execution_count": null,
      "outputs": [
        {
          "output_type": "stream",
          "name": "stdout",
          "text": [
            "Epoch 1 loss: 0.080\n",
            "Epoch 2 loss: 0.078\n",
            "Epoch 3 loss: 0.078\n",
            "Epoch 4 loss: 0.078\n",
            "Epoch 5 loss: 0.078\n",
            "Epoch 6 loss: 0.078\n",
            "Epoch 7 loss: 0.078\n",
            "Epoch 8 loss: 0.078\n",
            "Epoch 9 loss: 0.078\n",
            "Epoch 10 loss: 0.078\n"
          ]
        }
      ]
    },
    {
      "cell_type": "code",
      "source": [
        "store"
      ],
      "metadata": {
        "colab": {
          "base_uri": "https://localhost:8080/"
        },
        "id": "Q0lqtYT_2fL8",
        "outputId": "55aa9e59-94cb-4528-d3e0-05c956284f92"
      },
      "execution_count": null,
      "outputs": [
        {
          "output_type": "execute_result",
          "data": {
            "text/plain": [
              "[0.08322184072074106,\n",
              " 0.07837217330426847,\n",
              " 0.07829826430595131,\n",
              " 0.07830442326384945,\n",
              " 0.07829185052347021,\n",
              " 0.07831484744825866,\n",
              " 0.07829101043895935,\n",
              " 0.07828792021793197,\n",
              " 0.07830852302047424,\n",
              " 0.07829035430212389]"
            ]
          },
          "metadata": {},
          "execution_count": 16
        }
      ]
    },
    {
      "cell_type": "code",
      "source": [
        "plt.plot(store)\n",
        "plt.title('Training Loss')\n",
        "plt.xlabel('Epoch')\n",
        "plt.ylabel('Loss')\n",
        "plt.show()"
      ],
      "metadata": {
        "colab": {
          "base_uri": "https://localhost:8080/",
          "height": 472
        },
        "id": "FwhQIxT3zsl-",
        "outputId": "5ed48b35-4ee7-40e7-c7cb-627be7cfae8c"
      },
      "execution_count": null,
      "outputs": [
        {
          "output_type": "display_data",
          "data": {
            "text/plain": [
              "<Figure size 640x480 with 1 Axes>"
            ],
            "image/png": "[encoded data removed]"
          },
          "metadata": {}
        }
      ]
    }
  ]
}